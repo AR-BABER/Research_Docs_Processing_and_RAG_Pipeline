{
 "cells": [
  {
   "cell_type": "code",
   "execution_count": null,
   "metadata": {},
   "outputs": [],
   "source": [
    "import os\n",
    "from dotenv import load_dotenv\n",
    "\n",
    "load_dotenv()  # Load environment variables from .env if present\n",
    "\n",
    "import json, os\n",
    "\n",
    "from unstructured_client import UnstructuredClient\n",
    "from unstructured_client.models import operations, shared\n",
    "\n",
    "client = UnstructuredClient(\n",
    "    api_key = os.getenv(\"REPLACED_ENV_VAR\"),\n",
    "    server_url=\"https://api.unstructured.io/general/v0/general\"\n",
    ")\n",
    "\n",
    "input_filepath = \"<local/path/to/input/file>\"\n",
    "output_filepath = \"<local/path/to/output/file>\"\n",
    "\n",
    "with open(input_filepath, \"rb\") as f:\n",
    "    files = shared.Files(\n",
    "        content=f.read(),\n",
    "        file_name=input_filepath\n",
    "    )\n",
    "\n",
    "req = operations.PartitionRequest(\n",
    "    shared.PartitionParameters(\n",
    "        files=files,\n",
    "        strategy=shared.Strategy.AUTO\n",
    "    )\n",
    ")\n",
    "\n",
    "try:\n",
    "    res = client.general.partition(request=req)\n",
    "    element_dicts = [element for element in res.elements]\n",
    "    json_elements = json.dumps(element_dicts, indent=2)\n",
    "    \n",
    "    # Print the processed data.\n",
    "    print(json_elements)\n",
    "\n",
    "    # Write the processed data to a local file.\n",
    "    with open(output_filepath, \"w\") as file:\n",
    "      file.write(json_elements)\n",
    "except Exception as e:\n",
    "    print(e)\n"
   ]
  }
 ],
 "metadata": {
  "kernelspec": {
   "display_name": "Python 3",
   "language": "python",
   "name": "python3"
  },
  "language_info": {
   "name": "python",
   "version": "3.12.2"
  }
 },
 "nbformat": 4,
 "nbformat_minor": 2
}
